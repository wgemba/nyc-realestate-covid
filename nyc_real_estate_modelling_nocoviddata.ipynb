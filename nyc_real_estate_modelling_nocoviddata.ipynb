{
 "cells": [
  {
   "cell_type": "code",
   "execution_count": 1,
   "metadata": {},
   "outputs": [
    {
     "name": "stdout",
     "output_type": "stream",
     "text": [
      "Successful Import\n"
     ]
    }
   ],
   "source": [
    "import os\n",
    "import numpy as np\n",
    "from numpy import sqrt, mean, absolute\n",
    "import pandas as pd\n",
    "from sklearn.preprocessing import  MinMaxScaler\n",
    "from sklearn.model_selection import train_test_split, KFold, cross_val_score\n",
    "from sklearn import metrics\n",
    "from sklearn.linear_model import LinearRegression\n",
    "from sklearn.ensemble import RandomForestRegressor, GradientBoostingRegressor\n",
    "from sklearn.svm import SVR\n",
    "import matplotlib.pyplot as plt\n",
    "import seaborn as sns\n",
    "\n",
    "print(\"Successful Import\")"
   ]
  },
  {
   "cell_type": "code",
   "execution_count": 2,
   "metadata": {},
   "outputs": [
    {
     "data": {
      "text/html": [
       "<div>\n",
       "<style scoped>\n",
       "    .dataframe tbody tr th:only-of-type {\n",
       "        vertical-align: middle;\n",
       "    }\n",
       "\n",
       "    .dataframe tbody tr th {\n",
       "        vertical-align: top;\n",
       "    }\n",
       "\n",
       "    .dataframe thead th {\n",
       "        text-align: right;\n",
       "    }\n",
       "</style>\n",
       "<table border=\"1\" class=\"dataframe\">\n",
       "  <thead>\n",
       "    <tr style=\"text-align: right;\">\n",
       "      <th></th>\n",
       "      <th>BORO</th>\n",
       "      <th>ZIP CODE</th>\n",
       "      <th>LAND SQFT</th>\n",
       "      <th>GROSS SQFT</th>\n",
       "      <th>YEAR BUILT</th>\n",
       "      <th>WEEK #</th>\n",
       "      <th>SEASON</th>\n",
       "      <th>SALE PRICE</th>\n",
       "    </tr>\n",
       "  </thead>\n",
       "  <tbody>\n",
       "    <tr>\n",
       "      <th>0</th>\n",
       "      <td>2</td>\n",
       "      <td>10453</td>\n",
       "      <td>3723</td>\n",
       "      <td>2280</td>\n",
       "      <td>1920</td>\n",
       "      <td>1</td>\n",
       "      <td>2</td>\n",
       "      <td>240000.0</td>\n",
       "    </tr>\n",
       "    <tr>\n",
       "      <th>1</th>\n",
       "      <td>4</td>\n",
       "      <td>11367</td>\n",
       "      <td>1800</td>\n",
       "      <td>1260</td>\n",
       "      <td>1950</td>\n",
       "      <td>1</td>\n",
       "      <td>2</td>\n",
       "      <td>10.0</td>\n",
       "    </tr>\n",
       "    <tr>\n",
       "      <th>2</th>\n",
       "      <td>5</td>\n",
       "      <td>10312</td>\n",
       "      <td>2280</td>\n",
       "      <td>1440</td>\n",
       "      <td>1980</td>\n",
       "      <td>1</td>\n",
       "      <td>2</td>\n",
       "      <td>380250.0</td>\n",
       "    </tr>\n",
       "    <tr>\n",
       "      <th>3</th>\n",
       "      <td>4</td>\n",
       "      <td>11422</td>\n",
       "      <td>1470</td>\n",
       "      <td>1520</td>\n",
       "      <td>1996</td>\n",
       "      <td>1</td>\n",
       "      <td>2</td>\n",
       "      <td>425000.0</td>\n",
       "    </tr>\n",
       "    <tr>\n",
       "      <th>4</th>\n",
       "      <td>3</td>\n",
       "      <td>11236</td>\n",
       "      <td>2000</td>\n",
       "      <td>832</td>\n",
       "      <td>1930</td>\n",
       "      <td>1</td>\n",
       "      <td>2</td>\n",
       "      <td>491000.0</td>\n",
       "    </tr>\n",
       "    <tr>\n",
       "      <th>...</th>\n",
       "      <td>...</td>\n",
       "      <td>...</td>\n",
       "      <td>...</td>\n",
       "      <td>...</td>\n",
       "      <td>...</td>\n",
       "      <td>...</td>\n",
       "      <td>...</td>\n",
       "      <td>...</td>\n",
       "    </tr>\n",
       "    <tr>\n",
       "      <th>4381</th>\n",
       "      <td>2</td>\n",
       "      <td>10451</td>\n",
       "      <td>2535</td>\n",
       "      <td>1728</td>\n",
       "      <td>1899</td>\n",
       "      <td>44</td>\n",
       "      <td>1</td>\n",
       "      <td>470000.0</td>\n",
       "    </tr>\n",
       "    <tr>\n",
       "      <th>4382</th>\n",
       "      <td>5</td>\n",
       "      <td>10306</td>\n",
       "      <td>1100</td>\n",
       "      <td>1485</td>\n",
       "      <td>1989</td>\n",
       "      <td>44</td>\n",
       "      <td>1</td>\n",
       "      <td>494400.0</td>\n",
       "    </tr>\n",
       "    <tr>\n",
       "      <th>4383</th>\n",
       "      <td>2</td>\n",
       "      <td>10466</td>\n",
       "      <td>1710</td>\n",
       "      <td>1152</td>\n",
       "      <td>1940</td>\n",
       "      <td>44</td>\n",
       "      <td>1</td>\n",
       "      <td>535600.0</td>\n",
       "    </tr>\n",
       "    <tr>\n",
       "      <th>4384</th>\n",
       "      <td>4</td>\n",
       "      <td>11367</td>\n",
       "      <td>1800</td>\n",
       "      <td>1332</td>\n",
       "      <td>1950</td>\n",
       "      <td>44</td>\n",
       "      <td>1</td>\n",
       "      <td>10.0</td>\n",
       "    </tr>\n",
       "    <tr>\n",
       "      <th>4385</th>\n",
       "      <td>5</td>\n",
       "      <td>10306</td>\n",
       "      <td>1400</td>\n",
       "      <td>1690</td>\n",
       "      <td>1989</td>\n",
       "      <td>44</td>\n",
       "      <td>1</td>\n",
       "      <td>495000.0</td>\n",
       "    </tr>\n",
       "  </tbody>\n",
       "</table>\n",
       "<p>4386 rows × 8 columns</p>\n",
       "</div>"
      ],
      "text/plain": [
       "      BORO  ZIP CODE  LAND SQFT  GROSS SQFT  YEAR BUILT  WEEK #  SEASON  \\\n",
       "0        2     10453       3723        2280        1920       1       2   \n",
       "1        4     11367       1800        1260        1950       1       2   \n",
       "2        5     10312       2280        1440        1980       1       2   \n",
       "3        4     11422       1470        1520        1996       1       2   \n",
       "4        3     11236       2000         832        1930       1       2   \n",
       "...    ...       ...        ...         ...         ...     ...     ...   \n",
       "4381     2     10451       2535        1728        1899      44       1   \n",
       "4382     5     10306       1100        1485        1989      44       1   \n",
       "4383     2     10466       1710        1152        1940      44       1   \n",
       "4384     4     11367       1800        1332        1950      44       1   \n",
       "4385     5     10306       1400        1690        1989      44       1   \n",
       "\n",
       "      SALE PRICE  \n",
       "0       240000.0  \n",
       "1           10.0  \n",
       "2       380250.0  \n",
       "3       425000.0  \n",
       "4       491000.0  \n",
       "...          ...  \n",
       "4381    470000.0  \n",
       "4382    494400.0  \n",
       "4383    535600.0  \n",
       "4384        10.0  \n",
       "4385    495000.0  \n",
       "\n",
       "[4386 rows x 8 columns]"
      ]
     },
     "execution_count": 2,
     "metadata": {},
     "output_type": "execute_result"
    }
   ],
   "source": [
    "os.chdir('<Insert PATH Here>')\n",
    "\n",
    "df = pd.read_csv(r'NYC REAL ESTATE/nyc_full_clean_nocovid.csv')\n",
    "df"
   ]
  },
  {
   "cell_type": "code",
   "execution_count": 3,
   "metadata": {},
   "outputs": [
    {
     "data": {
      "text/plain": [
       "<Axes: >"
      ]
     },
     "execution_count": 3,
     "metadata": {},
     "output_type": "execute_result"
    },
    {
     "data": {
      "image/png": "[encoded data removed]",
      "text/plain": [
       "<Figure size 432x288 with 2 Axes>"
      ]
     },
     "metadata": {
      "needs_background": "light"
     },
     "output_type": "display_data"
    }
   ],
   "source": [
    "corr_matrix = df.corr()\n",
    "sns.set(rc={'figure.figsize':(15,10)})\n",
    "sns.heatmap(corr_matrix, annot=True)"
   ]
  },
  {
   "cell_type": "markdown",
   "metadata": {},
   "source": [
    "# Split Data"
   ]
  },
  {
   "cell_type": "code",
   "execution_count": 4,
   "metadata": {},
   "outputs": [],
   "source": [
    "learn_vars = ['BORO', 'ZIP CODE', 'LAND SQFT','GROSS SQFT', 'YEAR BUILT', 'WEEK #', 'SEASON'] "
   ]
  },
  {
   "cell_type": "code",
   "execution_count": 5,
   "metadata": {},
   "outputs": [
    {
     "name": "stdout",
     "output_type": "stream",
     "text": [
      "(4386, 7) (4386,) \n",
      "\n"
     ]
    }
   ],
   "source": [
    "X = df[learn_vars]\n",
    "y = df['SALE PRICE']\n",
    "print(X.shape, y.shape, '\\n')"
   ]
  },
  {
   "cell_type": "code",
   "execution_count": 6,
   "metadata": {},
   "outputs": [
    {
     "name": "stdout",
     "output_type": "stream",
     "text": [
      "(3508, 7) (3508,) \n",
      "\n",
      "(878, 7) (878,) \n",
      "\n"
     ]
    }
   ],
   "source": [
    "X_train, X_test, y_train, y_test = train_test_split(X, y, test_size=0.2, random_state=42)\n",
    "print(X_train.shape, y_train.shape ,'\\n')\n",
    "print(X_test.shape, y_test.shape ,'\\n')"
   ]
  },
  {
   "cell_type": "code",
   "execution_count": 7,
   "metadata": {},
   "outputs": [],
   "source": [
    "scaler = MinMaxScaler()\n",
    "\n",
    "X_train_s = scaler.fit_transform(X_train)\n",
    "X_test_s = scaler.transform(X_test)\n",
    "\n",
    "y_train_s = np.array(y_train).reshape(-1,1)\n",
    "y_train_s = scaler.fit_transform(y_train_s)\n",
    "y_train_s = y_train_s.flatten()\n",
    "\n",
    "y_test_s = np.array(y_test).reshape(-1,1)\n",
    "y_test_s = scaler.transform(y_test_s)\n",
    "y_test_s = y_test_s.flatten()"
   ]
  },
  {
   "cell_type": "code",
   "execution_count": 8,
   "metadata": {},
   "outputs": [
    {
     "name": "stdout",
     "output_type": "stream",
     "text": [
      "(3508, 7) (3508,) \n",
      "\n",
      "(878, 7) (878,) \n",
      "\n"
     ]
    }
   ],
   "source": [
    "print(X_train_s.shape, y_train_s.shape ,'\\n')\n",
    "print(X_test_s.shape, y_test_s.shape ,'\\n')"
   ]
  },
  {
   "cell_type": "code",
   "execution_count": 9,
   "metadata": {
    "scrolled": true
   },
   "outputs": [
    {
     "name": "stdout",
     "output_type": "stream",
     "text": [
      "========== LR Results Evaluation ==========\n",
      "MAE: 0.007605434191040616\n",
      "MSE: 0.00014155072966593718\n",
      "RMSE: 0.011897509389193067\n",
      "R-Squared Score:  0.5930022888812814\n",
      "===========================================\n"
     ]
    }
   ],
   "source": [
    "lr = LinearRegression()\n",
    "model_lr = lr.fit(X_train_s, y_train_s)\n",
    "\n",
    "# Prediction\n",
    "Y_pred_s = model_lr.predict(X_test_s)\n",
    "\n",
    "print('========== LR Results Evaluation ==========')\n",
    "mae_s = metrics.mean_absolute_error(y_test_s, Y_pred_s)\n",
    "print('MAE:', mae_s)\n",
    "mse_s = metrics.mean_squared_error(y_test_s, Y_pred_s)\n",
    "print('MSE:', mse_s)\n",
    "print('RMSE:', np.sqrt(mse_s))\n",
    "r2_s = metrics.r2_score(y_test_s, Y_pred_s)\n",
    "print('R-Squared Score: ', r2_s)\n",
    "print('===========================================')"
   ]
  },
  {
   "cell_type": "code",
   "execution_count": 10,
   "metadata": {},
   "outputs": [
    {
     "name": "stdout",
     "output_type": "stream",
     "text": [
      "========== LR Results Evaluation (with Cross Validation) ==========\n",
      "MAE: 0.0082\n",
      "RMSE: 0.0175\n",
      "R-Squared Score:  0.5930\n",
      "====================================================================\n"
     ]
    }
   ],
   "source": [
    "# with k-Fold Cross Validation\n",
    "cv = KFold(n_splits=10, random_state=1, shuffle=True)\n",
    "scores1 = cross_val_score(model_lr, X_train_s, y_train_s, scoring='neg_mean_absolute_error', cv=cv, n_jobs=-1)\n",
    "scores2 = cross_val_score(model_lr, X_train_s, y_train_s, scoring='neg_mean_squared_error', cv=cv, n_jobs=-1)\n",
    "\n",
    "print('========== LR Results Evaluation (with Cross Validation) ==========')\n",
    "print(\"MAE:\", \"{:.4f}\".format(mean(absolute(scores1))))\n",
    "print(\"RMSE:\", \"{:.4f}\".format(sqrt(mean(absolute(scores2)))))\n",
    "r2_s = metrics.r2_score(y_test_s, Y_pred_s)\n",
    "print('R-Squared Score: ', \"{:.4f}\".format(r2_s))\n",
    "print('====================================================================')"
   ]
  },
  {
   "cell_type": "code",
   "execution_count": 11,
   "metadata": {},
   "outputs": [
    {
     "data": {
      "text/plain": [
       "Text(0.5, 1.0, 'Actual vs Predicted Sale Values (Linear Regression)')"
      ]
     },
     "execution_count": 11,
     "metadata": {},
     "output_type": "execute_result"
    },
    {
     "data": {
      "image/png": "[encoded data removed]",
      "text/plain": [
       "<Figure size 1080x720 with 1 Axes>"
      ]
     },
     "metadata": {
      "needs_background": "light"
     },
     "output_type": "display_data"
    }
   ],
   "source": [
    "plt.figure(figsize = (15,10))\n",
    "plt.scatter(y_test,Y_pred_s)\n",
    "m, b = np.polyfit(y_test, Y_pred_s, 1)\n",
    "plt.plot(y_test, m*y_test + b, \"r--\")\n",
    "plt.xlabel('Actual Sale Values', fontsize = 16)\n",
    "plt.ylabel('Predicted Sale Values', fontsize = 16)\n",
    "plt.title('Actual vs Predicted Sale Values (Linear Regression)', fontsize = 20)"
   ]
  },
  {
   "cell_type": "markdown",
   "metadata": {},
   "source": [
    "## Random Forest"
   ]
  },
  {
   "cell_type": "code",
   "execution_count": 12,
   "metadata": {},
   "outputs": [
    {
     "name": "stdout",
     "output_type": "stream",
     "text": [
      "========== RFR Results Evaluation ==========\n",
      "MAE: 0.0030053902487091285\n",
      "MSE: 0.00010515453889265003\n",
      "RMSE: 0.01025448871922194\n",
      "R-Squared Score:  0.6976514586392013\n",
      "=============================================\n"
     ]
    }
   ],
   "source": [
    "rf = RandomForestRegressor(random_state = 42)\n",
    "model_rf = rf.fit(X_train_s, y_train_s)\n",
    "\n",
    "# Prediction\n",
    "Y_pred_rf = model_rf.predict(X_test_s)\n",
    "\n",
    "print('========== RFR Results Evaluation ==========')\n",
    "mae_rf = metrics.mean_absolute_error(y_test_s, Y_pred_rf)\n",
    "print('MAE:', mae_rf)\n",
    "mse_rf = metrics.mean_squared_error(y_test_s, Y_pred_rf)\n",
    "print('MSE:', mse_rf)\n",
    "print('RMSE:', np.sqrt(mse_rf))\n",
    "r2_rf = metrics.r2_score(y_test_s, Y_pred_rf)\n",
    "print('R-Squared Score: ', r2_rf)\n",
    "print('=============================================')\n"
   ]
  },
  {
   "cell_type": "code",
   "execution_count": 13,
   "metadata": {},
   "outputs": [
    {
     "name": "stdout",
     "output_type": "stream",
     "text": [
      "========== LR Results Evaluation (with Cross Validation) ==========\n",
      "MAE: 0.0030\n",
      "RMSE: 0.0152\n",
      "R-Squared Score:  0.6977\n",
      "===================================================================\n"
     ]
    }
   ],
   "source": [
    "# k-Fold Cross Validation\n",
    "cv = KFold(n_splits=10, random_state=1, shuffle=True)\n",
    "scores1 = cross_val_score(model_rf, X_train_s, y_train_s, scoring='neg_mean_absolute_error', cv=cv, n_jobs=-1)\n",
    "scores2 = cross_val_score(model_rf, X_train_s, y_train_s, scoring='neg_mean_squared_error', cv=cv, n_jobs=-1)\n",
    "\n",
    "print('========== LR Results Evaluation (with Cross Validation) ==========')\n",
    "print(\"MAE:\", \"{:.4f}\".format(mean(absolute(scores1))))\n",
    "print(\"RMSE:\", \"{:.4f}\".format(sqrt(mean(absolute(scores2)))))\n",
    "r2_s = metrics.r2_score(y_test_s, Y_pred_rf)\n",
    "print('R-Squared Score: ', \"{:.4f}\".format(r2_s))\n",
    "print('===================================================================')"
   ]
  },
  {
   "cell_type": "markdown",
   "metadata": {},
   "source": [
    "## SVR"
   ]
  },
  {
   "cell_type": "code",
   "execution_count": 14,
   "metadata": {},
   "outputs": [
    {
     "name": "stdout",
     "output_type": "stream",
     "text": [
      "========== SVR Results Evaluation ==========\n",
      "MAE: 0.03538735125039711\n",
      "MSE: 0.001820426549954853\n",
      "RMSE: 0.042666456965101435\n",
      "R-Squared Score:  -4.234232566938606\n",
      "============================================\n"
     ]
    }
   ],
   "source": [
    "supp_vec = SVR(kernel = \"poly\")\n",
    "svrModel = supp_vec.fit(X_train_s, y_train_s)\n",
    "Y_pred_svr = svrModel.predict(X_test_s)\n",
    "\n",
    "print('========== SVR Results Evaluation ==========')\n",
    "mae_svr = metrics.mean_absolute_error(y_test_s, Y_pred_svr)\n",
    "print('MAE:', mae_svr)\n",
    "mse_svr = metrics.mean_squared_error(y_test_s, Y_pred_svr)\n",
    "print('MSE:', mse_svr)\n",
    "print('RMSE:', np.sqrt(mse_svr))\n",
    "r2_svr = metrics.r2_score(y_test_s, Y_pred_svr)\n",
    "print('R-Squared Score: ', r2_svr)\n",
    "print('============================================')"
   ]
  },
  {
   "cell_type": "code",
   "execution_count": 15,
   "metadata": {},
   "outputs": [
    {
     "name": "stdout",
     "output_type": "stream",
     "text": [
      "========== SVR Results Evaluation (with Cross Validation) ==========\n",
      "MAE: 0.0404\n",
      "RMSE: 0.0493\n",
      "R-Squared Score:  -4.2342\n",
      "====================================================================\n"
     ]
    }
   ],
   "source": [
    "# k-Fold Cross Validation\n",
    "cv = KFold(n_splits=10, random_state=1, shuffle=True)\n",
    "scores1 = cross_val_score(svrModel, X_train_s, y_train_s, scoring='neg_mean_absolute_error', cv=cv, n_jobs=-1)\n",
    "scores2 = cross_val_score(svrModel, X_train_s, y_train_s, scoring='neg_mean_squared_error', cv=cv, n_jobs=-1)\n",
    "\n",
    "print('========== SVR Results Evaluation (with Cross Validation) ==========')\n",
    "print(\"MAE:\", \"{:.4f}\".format(mean(absolute(scores1))))\n",
    "print(\"RMSE:\", \"{:.4f}\".format(sqrt(mean(absolute(scores2)))))\n",
    "r2_s = metrics.r2_score(y_test_s, Y_pred_svr)\n",
    "print('R-Squared Score: ', \"{:.4f}\".format(r2_s))\n",
    "print('====================================================================')"
   ]
  },
  {
   "cell_type": "markdown",
   "metadata": {},
   "source": [
    "## GBR"
   ]
  },
  {
   "cell_type": "code",
   "execution_count": 16,
   "metadata": {},
   "outputs": [
    {
     "name": "stdout",
     "output_type": "stream",
     "text": [
      "========== GBR Results Evaluation ==========\n",
      "MAE: 0.0030764471294755912\n",
      "MSE: 0.00010699223271575047\n",
      "RMSE: 0.010343704980119574\n",
      "R-Squared Score:  0.6923675778601757\n",
      "============================================\n"
     ]
    }
   ],
   "source": [
    "gbr = GradientBoostingRegressor()\n",
    "\n",
    "gbrModel = gbr.fit(X_train_s, y_train_s)\n",
    "Y_pred_gbr = gbrModel.predict(X_test_s)\n",
    "\n",
    "print('========== GBR Results Evaluation ==========')\n",
    "mae_gbr = metrics.mean_absolute_error(y_test_s, Y_pred_gbr)\n",
    "print('MAE:', mae_gbr)\n",
    "mse_gbr = metrics.mean_squared_error(y_test_s, Y_pred_gbr)\n",
    "print('MSE:', mse_gbr)\n",
    "print('RMSE:', np.sqrt(mse_gbr))\n",
    "r2_gbr = metrics.r2_score(y_test_s, Y_pred_gbr)\n",
    "print('R-Squared Score: ', r2_gbr)\n",
    "print('============================================')"
   ]
  },
  {
   "cell_type": "code",
   "execution_count": 17,
   "metadata": {
    "scrolled": true
   },
   "outputs": [
    {
     "name": "stdout",
     "output_type": "stream",
     "text": [
      "========== GBR Results Evaluation (with Cross Validation) ==========\n",
      "MAE: 0.0032\n",
      "RMSE: 0.0166\n",
      "R-Squared Score:  0.6924\n",
      "====================================================================\n"
     ]
    }
   ],
   "source": [
    "# k-Fold Cross Validation\n",
    "cv = KFold(n_splits=10, random_state=1, shuffle=True)\n",
    "scores1 = cross_val_score(gbrModel, X_train_s, y_train_s, scoring='neg_mean_absolute_error', cv=cv, n_jobs=-1)\n",
    "scores2 = cross_val_score(gbrModel, X_train_s, y_train_s, scoring='neg_mean_squared_error', cv=cv, n_jobs=-1)\n",
    "\n",
    "print('========== GBR Results Evaluation (with Cross Validation) ==========')\n",
    "print(\"MAE:\", \"{:.4f}\".format(mean(absolute(scores1))))\n",
    "print(\"RMSE:\", \"{:.4f}\".format(sqrt(mean(absolute(scores2)))))\n",
    "r2_s = metrics.r2_score(y_test_s, Y_pred_gbr)\n",
    "print('R-Squared Score: ', \"{:.4f}\".format(r2_s))\n",
    "print('====================================================================')"
   ]
  },
  {
   "cell_type": "markdown",
   "metadata": {},
   "source": [
    "# Feature Selection"
   ]
  },
  {
   "cell_type": "code",
   "execution_count": 18,
   "metadata": {},
   "outputs": [
    {
     "data": {
      "text/html": [
       "<div>\n",
       "<style scoped>\n",
       "    .dataframe tbody tr th:only-of-type {\n",
       "        vertical-align: middle;\n",
       "    }\n",
       "\n",
       "    .dataframe tbody tr th {\n",
       "        vertical-align: top;\n",
       "    }\n",
       "\n",
       "    .dataframe thead th {\n",
       "        text-align: right;\n",
       "    }\n",
       "</style>\n",
       "<table border=\"1\" class=\"dataframe\">\n",
       "  <thead>\n",
       "    <tr style=\"text-align: right;\">\n",
       "      <th></th>\n",
       "      <th>correlation</th>\n",
       "      <th>abs_correlation</th>\n",
       "    </tr>\n",
       "    <tr>\n",
       "      <th>parameter</th>\n",
       "      <th></th>\n",
       "      <th></th>\n",
       "    </tr>\n",
       "  </thead>\n",
       "  <tbody>\n",
       "    <tr>\n",
       "      <th>GROSS SQFT</th>\n",
       "      <td>0.733026</td>\n",
       "      <td>0.733026</td>\n",
       "    </tr>\n",
       "    <tr>\n",
       "      <th>BORO</th>\n",
       "      <td>-0.280299</td>\n",
       "      <td>0.280299</td>\n",
       "    </tr>\n",
       "    <tr>\n",
       "      <th>YEAR BUILT</th>\n",
       "      <td>-0.176666</td>\n",
       "      <td>0.176666</td>\n",
       "    </tr>\n",
       "    <tr>\n",
       "      <th>ZIP CODE</th>\n",
       "      <td>-0.084066</td>\n",
       "      <td>0.084066</td>\n",
       "    </tr>\n",
       "    <tr>\n",
       "      <th>WEEK #</th>\n",
       "      <td>-0.054245</td>\n",
       "      <td>0.054245</td>\n",
       "    </tr>\n",
       "    <tr>\n",
       "      <th>LAND SQFT</th>\n",
       "      <td>0.043493</td>\n",
       "      <td>0.043493</td>\n",
       "    </tr>\n",
       "    <tr>\n",
       "      <th>SEASON</th>\n",
       "      <td>0.014239</td>\n",
       "      <td>0.014239</td>\n",
       "    </tr>\n",
       "  </tbody>\n",
       "</table>\n",
       "</div>"
      ],
      "text/plain": [
       "            correlation  abs_correlation\n",
       "parameter                               \n",
       "GROSS SQFT     0.733026         0.733026\n",
       "BORO          -0.280299         0.280299\n",
       "YEAR BUILT    -0.176666         0.176666\n",
       "ZIP CODE      -0.084066         0.084066\n",
       "WEEK #        -0.054245         0.054245\n",
       "LAND SQFT      0.043493         0.043493\n",
       "SEASON         0.014239         0.014239"
      ]
     },
     "execution_count": 18,
     "metadata": {},
     "output_type": "execute_result"
    }
   ],
   "source": [
    "from scipy.stats import pointbiserialr, spearmanr\n",
    "col_names = df.columns\n",
    "params = []\n",
    "correlation = []\n",
    "abs_correlation = []\n",
    "for col in col_names:\n",
    "    if col != \"SALE PRICE\":\n",
    "        if len(df[col].unique()) <= 2:\n",
    "            corr = spearmanr(df['SALE PRICE'], df[col])[0]\n",
    "        else:\n",
    "            corr = pointbiserialr(df['SALE PRICE'], df[col])[0]\n",
    "        params.append(col)\n",
    "        correlation.append(corr)\n",
    "        abs_correlation.append(abs(corr))\n",
    "params_df = pd.DataFrame({'correlation':correlation, 'parameter': params, 'abs_correlation': abs_correlation})\n",
    "params_df = params_df.sort_values(by = ['abs_correlation'], ascending = False)\n",
    "params_df = params_df.set_index('parameter')\n",
    "params_df"
   ]
  },
  {
   "cell_type": "code",
   "execution_count": 19,
   "metadata": {},
   "outputs": [
    {
     "name": "stdout",
     "output_type": "stream",
     "text": [
      "Top features:\t ['GROSS SQFT' 'BORO' 'YEAR BUILT' 'ZIP CODE']\n"
     ]
    }
   ],
   "source": [
    "best_feats = params_df.index[0:4].values\n",
    "print('Top features:\\t', best_feats)"
   ]
  },
  {
   "cell_type": "code",
   "execution_count": 20,
   "metadata": {},
   "outputs": [
    {
     "name": "stdout",
     "output_type": "stream",
     "text": [
      "(4386, 4) (4386,) \n",
      "\n"
     ]
    }
   ],
   "source": [
    "learn_vars_featselect = ['GROSS SQFT', 'BORO', 'YEAR BUILT', 'ZIP CODE']\n",
    "X2 = df[learn_vars_featselect]\n",
    "y2 = df['SALE PRICE']\n",
    "print(X2.shape, y2.shape, '\\n')"
   ]
  },
  {
   "cell_type": "code",
   "execution_count": 21,
   "metadata": {},
   "outputs": [
    {
     "name": "stdout",
     "output_type": "stream",
     "text": [
      "(3508, 4) (3508,) \n",
      "\n",
      "(878, 4) (878,) \n",
      "\n"
     ]
    }
   ],
   "source": [
    "X2_train, X2_test, y2_train, y2_test = train_test_split(X2, y2, test_size=0.2, random_state=42)\n",
    "print(X2_train.shape, y2_train.shape ,'\\n')\n",
    "print(X2_test.shape, y2_test.shape ,'\\n')"
   ]
  },
  {
   "cell_type": "code",
   "execution_count": 22,
   "metadata": {},
   "outputs": [
    {
     "name": "stdout",
     "output_type": "stream",
     "text": [
      "(3508, 4) (3508,) \n",
      "\n",
      "(878, 4) (878,) \n",
      "\n"
     ]
    }
   ],
   "source": [
    "X2_train_s = scaler.fit_transform(X2_train)\n",
    "X2_test_s = scaler.transform(X2_test)\n",
    "\n",
    "y2_train_s = np.array(y2_train).reshape(-1,1)\n",
    "y2_train_s = scaler.fit_transform(y2_train_s)\n",
    "y2_train_s = y2_train_s.flatten()\n",
    "\n",
    "\n",
    "y2_test_s = np.array(y2_test).reshape(-1,1)\n",
    "y2_test_s = scaler.transform(y2_test_s)\n",
    "y2_test_s = y2_test_s.flatten()\n",
    "\n",
    "print(X2_train_s.shape, y2_train_s.shape ,'\\n')\n",
    "print(X2_test_s.shape, y2_test_s.shape ,'\\n')"
   ]
  },
  {
   "cell_type": "markdown",
   "metadata": {},
   "source": [
    "## Linear Regression (with Feature Selection)"
   ]
  },
  {
   "cell_type": "code",
   "execution_count": 23,
   "metadata": {},
   "outputs": [
    {
     "name": "stdout",
     "output_type": "stream",
     "text": [
      "========== LR Results Evaluation With Feature Selection ==========\n",
      "MAE: 574437.9799663099\n",
      "MSE: 840644323932.3143\n",
      "RMSE: 916866.5791336896\n",
      "R-Squared Score:  0.5933850010787783\n",
      "==================================================================\n"
     ]
    }
   ],
   "source": [
    "model_lr_2 = model_lr.fit(X2_train_s, y2_train)\n",
    "\n",
    "# Prediction\n",
    "Y2_pred_s = model_lr_2.predict(X2_test_s)\n",
    "\n",
    "print('========== LR Results Evaluation With Feature Selection ==========')\n",
    "mae_s_2 = metrics.mean_absolute_error(y2_test, Y2_pred_s)\n",
    "print('MAE:', mae_s_2)\n",
    "mse_s_2 = metrics.mean_squared_error(y2_test, Y2_pred_s)\n",
    "print('MSE:', mse_s_2)\n",
    "print('RMSE:', np.sqrt(mse_s_2))\n",
    "r2_s_2 = metrics.r2_score(y2_test, Y2_pred_s)\n",
    "print('R-Squared Score: ', r2_s_2)\n",
    "print('==================================================================')"
   ]
  },
  {
   "cell_type": "code",
   "execution_count": 24,
   "metadata": {},
   "outputs": [
    {
     "name": "stdout",
     "output_type": "stream",
     "text": [
      "========== LR Results Evaluation (with Feature Selection and Cross Validation) ==========\n",
      "MAE: 0.0080\n",
      "RMSE: 0.0177\n",
      "R-Squared Score:  -8296268042431592.0000\n",
      "====================================================================\n"
     ]
    }
   ],
   "source": [
    "# k-Fold Cross Validation\n",
    "cv = KFold(n_splits=10, random_state=1, shuffle=True)\n",
    "scores1 = cross_val_score(model_lr_2, X2_train_s, y2_train_s, scoring='neg_mean_absolute_error', cv=cv, n_jobs=-1)\n",
    "scores2 = cross_val_score(model_lr_2, X2_train_s, y2_train_s, scoring='neg_mean_squared_error', cv=cv, n_jobs=-1)\n",
    "\n",
    "print('========== LR Results Evaluation (with Feature Selection and Cross Validation) ==========')\n",
    "print(\"MAE:\", \"{:.4f}\".format(mean(absolute(scores1))))\n",
    "print(\"RMSE:\", \"{:.4f}\".format(sqrt(mean(absolute(scores2)))))\n",
    "r2_s = metrics.r2_score(y2_test_s, Y2_pred_s)\n",
    "print('R-Squared Score: ', \"{:.4f}\".format(r2_s))\n",
    "print('=========================================================================================')"
   ]
  },
  {
   "cell_type": "markdown",
   "metadata": {},
   "source": [
    "## Random Forest (with Feature Selection)"
   ]
  },
  {
   "cell_type": "code",
   "execution_count": 25,
   "metadata": {},
   "outputs": [
    {
     "name": "stdout",
     "output_type": "stream",
     "text": [
      "========== RFR Results Evaluation (with feature selection) ==========\n",
      "MAE: 0.002882694652993065\n",
      "MSE: 8.855306162671941e-05\n",
      "RMSE: 0.00941026363215821\n",
      "R-Squared Score:  0.7453853224233676\n",
      "====================================================================\n"
     ]
    }
   ],
   "source": [
    "rf = RandomForestRegressor(random_state = 42)\n",
    "model_rf_2 = rf.fit(X2_train_s, y2_train_s)\n",
    "\n",
    "# Prediction\n",
    "Y2_pred_rf = model_rf_2.predict(X2_test_s)\n",
    "\n",
    "print('========== RFR Results Evaluation (with feature selection) ==========')\n",
    "mae_rf = metrics.mean_absolute_error(y2_test_s, Y2_pred_rf)\n",
    "print('MAE:', mae_rf)\n",
    "mse_rf = metrics.mean_squared_error(y2_test_s, Y2_pred_rf)\n",
    "print('MSE:', mse_rf)\n",
    "print('RMSE:', np.sqrt(mse_rf))\n",
    "r2_rf = metrics.r2_score(y2_test_s, Y2_pred_rf)\n",
    "print('R-Squared Score: ', r2_rf)\n",
    "print('====================================================================')\n"
   ]
  },
  {
   "cell_type": "code",
   "execution_count": 26,
   "metadata": {},
   "outputs": [
    {
     "name": "stdout",
     "output_type": "stream",
     "text": [
      "========== LR Results Evaluation (with feature selection) ==========\n",
      "MAE: 0.0031\n",
      "RMSE: 0.0154\n",
      "R-Squared Score:  0.7454\n",
      "====================================================================\n"
     ]
    }
   ],
   "source": [
    "# k-Fold Cross Validation\n",
    "cv = KFold(n_splits=10, random_state=1, shuffle=True)\n",
    "scores1 = cross_val_score(model_rf_2, X2_train_s, y2_train_s, scoring='neg_mean_absolute_error', cv=cv, n_jobs=-1)\n",
    "scores2 = cross_val_score(model_rf_2, X2_train_s, y2_train_s, scoring='neg_mean_squared_error', cv=cv, n_jobs=-1)\n",
    "\n",
    "print('========== LR Results Evaluation (with feature selection) ==========')\n",
    "print(\"MAE:\", \"{:.4f}\".format(mean(absolute(scores1))))\n",
    "print(\"RMSE:\", \"{:.4f}\".format(sqrt(mean(absolute(scores2)))))\n",
    "r2_s = metrics.r2_score(y2_test_s, Y2_pred_rf)\n",
    "print('R-Squared Score: ', \"{:.4f}\".format(r2_s))\n",
    "print('====================================================================')"
   ]
  },
  {
   "cell_type": "markdown",
   "metadata": {},
   "source": [
    "## SVR (with Feature Selection)"
   ]
  },
  {
   "cell_type": "code",
   "execution_count": 27,
   "metadata": {},
   "outputs": [
    {
     "name": "stdout",
     "output_type": "stream",
     "text": [
      "========== SVR Results Evaluation ==========\n",
      "MAE: 0.037758867824425786\n",
      "MSE: 0.0018633442018872951\n",
      "RMSE: 0.04316647080648701\n",
      "R-Squared Score:  -4.357632751058584\n",
      "============================================\n"
     ]
    }
   ],
   "source": [
    "supp_vec = SVR(kernel = \"poly\")\n",
    "svrModel2 = supp_vec.fit(X2_train_s, y2_train_s)\n",
    "Y2_pred_svr = svrModel2.predict(X2_test_s)\n",
    "\n",
    "print('========== SVR Results Evaluation ==========')\n",
    "mae_svr = metrics.mean_absolute_error(y2_test_s, Y2_pred_svr)\n",
    "print('MAE:', mae_svr)\n",
    "mse_svr = metrics.mean_squared_error(y2_test_s, Y2_pred_svr)\n",
    "print('MSE:', mse_svr)\n",
    "print('RMSE:', np.sqrt(mse_svr))\n",
    "r2_svr = metrics.r2_score(y2_test_s, Y2_pred_svr)\n",
    "print('R-Squared Score: ', r2_svr)\n",
    "print('============================================')"
   ]
  },
  {
   "cell_type": "code",
   "execution_count": 28,
   "metadata": {},
   "outputs": [
    {
     "name": "stdout",
     "output_type": "stream",
     "text": [
      "========== SVR Results Evaluation (with Cross Validation) ==========\n",
      "MAE: 0.0417\n",
      "RMSE: 0.0486\n",
      "R-Squared Score:  -4.3576\n",
      "====================================================================\n"
     ]
    }
   ],
   "source": [
    "# k-Fold Cross Validation\n",
    "cv = KFold(n_splits=10, random_state=1, shuffle=True)\n",
    "scores1 = cross_val_score(svrModel2, X2_train_s, y2_train_s, scoring='neg_mean_absolute_error', cv=cv, n_jobs=-1)\n",
    "scores2 = cross_val_score(svrModel2, X2_train_s, y2_train_s, scoring='neg_mean_squared_error', cv=cv, n_jobs=-1)\n",
    "\n",
    "print('========== SVR Results Evaluation (with Cross Validation) ==========')\n",
    "print(\"MAE:\", \"{:.4f}\".format(mean(absolute(scores1))))\n",
    "print(\"RMSE:\", \"{:.4f}\".format(sqrt(mean(absolute(scores2)))))\n",
    "r2_s = metrics.r2_score(y2_test_s, Y2_pred_svr)\n",
    "print('R-Squared Score: ', \"{:.4f}\".format(r2_s))\n",
    "print('====================================================================')"
   ]
  },
  {
   "cell_type": "markdown",
   "metadata": {},
   "source": [
    "## GBR (with Feature Selection)"
   ]
  },
  {
   "cell_type": "code",
   "execution_count": 29,
   "metadata": {},
   "outputs": [
    {
     "name": "stdout",
     "output_type": "stream",
     "text": [
      "========== GBR Results Evaluation ==========\n",
      "MAE: 0.00308417113563262\n",
      "MSE: 0.00010607408700785445\n",
      "RMSE: 0.010299227495684056\n",
      "R-Squared Score:  0.6950075020941875\n",
      "============================================\n"
     ]
    }
   ],
   "source": [
    "gbr = GradientBoostingRegressor()\n",
    "\n",
    "gbrModel2 = gbr.fit(X_train_s, y_train_s)\n",
    "Y2_pred_gbr = gbrModel2.predict(X_test_s)\n",
    "\n",
    "print('========== GBR Results Evaluation ==========')\n",
    "mae_gbr = metrics.mean_absolute_error(y2_test_s, Y2_pred_gbr)\n",
    "print('MAE:', mae_gbr)\n",
    "mse_gbr = metrics.mean_squared_error(y2_test_s, Y2_pred_gbr)\n",
    "print('MSE:', mse_gbr)\n",
    "print('RMSE:', np.sqrt(mse_gbr))\n",
    "r2_gbr = metrics.r2_score(y2_test_s, Y2_pred_gbr)\n",
    "print('R-Squared Score: ', r2_gbr)\n",
    "print('============================================')"
   ]
  },
  {
   "cell_type": "code",
   "execution_count": 30,
   "metadata": {
    "scrolled": true
   },
   "outputs": [
    {
     "name": "stdout",
     "output_type": "stream",
     "text": [
      "========== GBR Results Evaluation (with Cross Validation) ==========\n",
      "MAE: 0.0033\n",
      "RMSE: 0.0160\n",
      "R-Squared Score:  0.6950\n",
      "====================================================================\n"
     ]
    }
   ],
   "source": [
    "# k-Fold Cross Validation\n",
    "cv = KFold(n_splits=10, random_state=1, shuffle=True)\n",
    "scores1 = cross_val_score(gbrModel2, X2_train_s, y2_train_s, scoring='neg_mean_absolute_error', cv=cv, n_jobs=-1)\n",
    "scores2 = cross_val_score(gbrModel2, X2_train_s, y2_train_s, scoring='neg_mean_squared_error', cv=cv, n_jobs=-1)\n",
    "\n",
    "print('========== GBR Results Evaluation (with Cross Validation) ==========')\n",
    "print(\"MAE:\", \"{:.4f}\".format(mean(absolute(scores1))))\n",
    "print(\"RMSE:\", \"{:.4f}\".format(sqrt(mean(absolute(scores2)))))\n",
    "r2_s = metrics.r2_score(y2_test_s, Y2_pred_gbr)\n",
    "print('R-Squared Score: ', \"{:.4f}\".format(r2_s))\n",
    "print('====================================================================')"
   ]
  },
  {
   "cell_type": "code",
   "execution_count": 31,
   "metadata": {},
   "outputs": [
    {
     "data": {
      "text/html": [
       "<div>\n",
       "<style scoped>\n",
       "    .dataframe tbody tr th:only-of-type {\n",
       "        vertical-align: middle;\n",
       "    }\n",
       "\n",
       "    .dataframe tbody tr th {\n",
       "        vertical-align: top;\n",
       "    }\n",
       "\n",
       "    .dataframe thead th {\n",
       "        text-align: right;\n",
       "    }\n",
       "</style>\n",
       "<table border=\"1\" class=\"dataframe\">\n",
       "  <thead>\n",
       "    <tr style=\"text-align: right;\">\n",
       "      <th></th>\n",
       "      <th>GROSS SQFT</th>\n",
       "      <th>BORO</th>\n",
       "      <th>YEAR BUILT</th>\n",
       "      <th>ZIP CODE</th>\n",
       "    </tr>\n",
       "  </thead>\n",
       "  <tbody>\n",
       "    <tr>\n",
       "      <th>2776</th>\n",
       "      <td>1748</td>\n",
       "      <td>5</td>\n",
       "      <td>2018</td>\n",
       "      <td>10306</td>\n",
       "    </tr>\n",
       "    <tr>\n",
       "      <th>3022</th>\n",
       "      <td>1048</td>\n",
       "      <td>2</td>\n",
       "      <td>1940</td>\n",
       "      <td>10469</td>\n",
       "    </tr>\n",
       "    <tr>\n",
       "      <th>2606</th>\n",
       "      <td>1152</td>\n",
       "      <td>5</td>\n",
       "      <td>1986</td>\n",
       "      <td>10312</td>\n",
       "    </tr>\n",
       "    <tr>\n",
       "      <th>912</th>\n",
       "      <td>1068</td>\n",
       "      <td>5</td>\n",
       "      <td>1988</td>\n",
       "      <td>10306</td>\n",
       "    </tr>\n",
       "    <tr>\n",
       "      <th>877</th>\n",
       "      <td>1638</td>\n",
       "      <td>1</td>\n",
       "      <td>1899</td>\n",
       "      <td>10014</td>\n",
       "    </tr>\n",
       "  </tbody>\n",
       "</table>\n",
       "</div>"
      ],
      "text/plain": [
       "      GROSS SQFT  BORO  YEAR BUILT  ZIP CODE\n",
       "2776        1748     5        2018     10306\n",
       "3022        1048     2        1940     10469\n",
       "2606        1152     5        1986     10312\n",
       "912         1068     5        1988     10306\n",
       "877         1638     1        1899     10014"
      ]
     },
     "execution_count": 31,
     "metadata": {},
     "output_type": "execute_result"
    }
   ],
   "source": [
    "sampleTestdfX = X2_test[:5]\n",
    "sampleTestdfX"
   ]
  },
  {
   "cell_type": "code",
   "execution_count": 32,
   "metadata": {},
   "outputs": [
    {
     "data": {
      "text/plain": [
       "2776     748414.0\n",
       "3022     270000.0\n",
       "2606     375000.0\n",
       "912      320000.0\n",
       "877     6000000.0\n",
       "Name: SALE PRICE, dtype: float64"
      ]
     },
     "execution_count": 32,
     "metadata": {},
     "output_type": "execute_result"
    }
   ],
   "source": [
    "sampleTestdf_vals = y2_test[:5]\n",
    "sampleTestdf_vals"
   ]
  },
  {
   "cell_type": "code",
   "execution_count": 33,
   "metadata": {},
   "outputs": [
    {
     "data": {
      "text/plain": [
       "array([ 724532.39166667,  403390.85      ,  298197.38804762,\n",
       "        359344.38833333, 7388619.        ])"
      ]
     },
     "execution_count": 33,
     "metadata": {},
     "output_type": "execute_result"
    }
   ],
   "source": [
    "model_rf_3 = rf.fit(X2_train, y2_train)\n",
    "sampleRFpred_rf = model_rf_3.predict(sampleTestdfX)\n",
    "sampleRFpred_rf"
   ]
  },
  {
   "cell_type": "code",
   "execution_count": 34,
   "metadata": {},
   "outputs": [
    {
     "data": {
      "text/plain": [
       "array([ 562389.35558386,  462837.06065068,  421981.13733533,\n",
       "        407758.43310489, 7244720.6408143 ])"
      ]
     },
     "execution_count": 34,
     "metadata": {},
     "output_type": "execute_result"
    }
   ],
   "source": [
    "gbrModel3 = gbr.fit(X2_train, y2_train)\n",
    "sampleRFpred_gbr = gbrModel3.predict(sampleTestdfX)\n",
    "sampleRFpred_gbr"
   ]
  },
  {
   "cell_type": "code",
   "execution_count": 35,
   "metadata": {},
   "outputs": [
    {
     "data": {
      "text/plain": [
       "array([  724532.39166667,   403390.85      ,   298197.38804762,\n",
       "         359344.38833333,  7388619.        ,   815132.57      ,\n",
       "         350265.2384127 ,   465075.75      ,   414878.71904762,\n",
       "         500833.17611111,   624927.68      ,   632886.02166667,\n",
       "        3081210.5       ,   475910.89      ,   735501.54666667,\n",
       "         344693.62666667,   845040.        ,   586188.04      ,\n",
       "         429863.86428571,   491140.8       ,   660511.49966667,\n",
       "         394213.62545238,   656034.20333333,   426891.77547619,\n",
       "        1129186.88      ,   399561.88761905,   393203.9       ,\n",
       "         423274.83333333,   744146.02333333,   523192.5       ,\n",
       "        1061407.75714286,   338906.04219841,   493831.        ,\n",
       "         573033.70666667,   856490.2       ,   453990.91066667,\n",
       "         319711.1595    ,   577125.08666667,   363649.5       ,\n",
       "         392820.33166667,   494532.14285714,   865640.        ,\n",
       "         576869.61619048,   658474.40666667,   520853.36      ,\n",
       "         500431.29857143,   241722.94      ,   461095.5875    ,\n",
       "         468384.45666667,   286252.40333333,   849442.5       ,\n",
       "         528634.19583366,   869480.89      ,   332998.52714286,\n",
       "         734715.48866667,   403981.14      ,   436541.36666667,\n",
       "         675301.5       ,   511820.13904762,   929520.1       ,\n",
       "         831306.        ,   279356.06666667,  1123766.83333333,\n",
       "         438223.21333333,   615601.63666667,   979873.29097619,\n",
       "         687963.28647619,   808442.88942857,   418695.86222222,\n",
       "        2556439.13      ,  2556439.13      ,  2337625.19333333,\n",
       "         543695.2       ,   393241.90333333,   433819.964     ,\n",
       "         355099.5       ,   836448.46      ,  1166721.82      ,\n",
       "         494912.59166667,   404590.75571429,   487451.58      ,\n",
       "         408162.31333333,   633969.6825    ,   422227.102     ,\n",
       "         619180.54095238,   557837.16666667,   474038.96238095,\n",
       "         498637.635     ,   391481.6       ,  8777983.96      ,\n",
       "        1112720.2       ,   774442.76      ,   647784.28571429,\n",
       "        1327668.16666667,   389011.89      ,   608408.32      ,\n",
       "         902125.52666667,   368737.16666667,   555922.95      ,\n",
       "         444391.86      ,   700083.80619048,   497155.2       ,\n",
       "         442652.00216667,   439591.37666667,   353170.66666667,\n",
       "         573855.622     ,   528634.19583366,   497643.16      ,\n",
       "         459497.97063492,   804650.        ,   609461.66666667,\n",
       "         879231.18      ,   436529.29195455,   493170.        ,\n",
       "         842660.        ,   675337.91666667,   989480.        ,\n",
       "         854924.99166667,  1119020.7       ,   515183.33333333,\n",
       "         678640.73      ,   888954.        ,   730984.75190476,\n",
       "         468989.94216667,   516433.9       ,   733942.63619048,\n",
       "         553368.84666667,   759756.66666667,   706453.07733333,\n",
       "         532362.33333333,   542682.82857143,   315214.59333333,\n",
       "         413083.9       ,   337155.8       ,   577730.        ,\n",
       "         418160.50333333,   374891.41666667,   285375.62666667,\n",
       "         522741.84333333,  1005124.54      ,   692060.        ,\n",
       "         440468.5       ,  1498631.42333333,   413441.01325397,\n",
       "         456210.        ,   473849.48142857,   463566.49666667,\n",
       "         132335.16      ,   981958.54      ,   378633.07999305,\n",
       "         609461.66666667,   625193.50333333,   326511.81584484,\n",
       "         571300.6       ,   779320.        ,   583026.66666667,\n",
       "         691661.068     ,   435718.35866667,   763130.        ,\n",
       "         706931.42      ,   575191.295     ,   735880.87833333,\n",
       "         848625.77      ,   368711.36      ,   536651.07      ,\n",
       "         172298.69547619,   501730.095     ,   430661.47619048,\n",
       "         322504.945     ,   410560.08      ,   557979.34929293,\n",
       "         636178.20380952,   542618.67714286,   613287.19833333,\n",
       "         513495.38888889,   460111.81      ,   527853.03333333,\n",
       "         798390.05      ,   448513.09      ,  1003820.2       ,\n",
       "         864724.96666667,   492319.62      ,   718113.33333333,\n",
       "         406828.68333333,   673533.49333333,   338836.67214286,\n",
       "         531640.83333333,   499255.1475    ,   658107.61904762,\n",
       "          22185.00079365,   389011.89      ,   690859.995     ,\n",
       "         798122.67      ,   432183.05      ,   844749.        ,\n",
       "         460726.73333333,   919170.845     ,   413928.265     ,\n",
       "         469144.2       ,   242585.72666667,   428048.975     ,\n",
       "         624142.28333333,   400559.73056999,   280759.68621212,\n",
       "         395539.11285714,   971822.5       ,   767503.74666667,\n",
       "         501756.96111111,   614205.78      ,   213901.7765873 ,\n",
       "         376473.00333333,   766004.56      ,   325900.83333333,\n",
       "       13252000.        ,   569702.03333333,   533996.5405    ,\n",
       "         745024.75190476,   497195.12936508,   692809.995     ,\n",
       "         514197.22666667,   478620.66906061,   506636.98333333,\n",
       "         774410.41666667,   421577.88      ,   418913.8952381 ,\n",
       "         430091.31      ,   951760.2       ,   613210.        ,\n",
       "         664470.02      ,  1091825.        ,   519624.35      ,\n",
       "         642755.87904762,   526994.73333333,   633926.66666667,\n",
       "          96284.89333333,  3193619.49      ,   697785.11904762,\n",
       "        3022970.1       ,   406171.49166667,   464739.35666667,\n",
       "         442413.187     ,   710268.62      ,   713830.        ,\n",
       "         556279.61733333,   390322.21666667,   415179.59793651,\n",
       "         802700.1       ,   434536.13780664,   686650.        ,\n",
       "         759560.        ,   521493.25      ,   829096.66666667,\n",
       "         748026.66666667,   609709.84809524,   502778.03850397,\n",
       "         411679.16333333,   584023.        ,   166765.73380952,\n",
       "         395966.35285714,   539196.66666667,   587770.38      ,\n",
       "         508603.01142857,   445747.0395    ,   511449.5       ,\n",
       "         428291.7       ,   928991.97      ,   498469.31      ,\n",
       "         424695.30833333,   487728.67      ,   845040.        ,\n",
       "         352798.72333333,   859156.285     ,  4843388.18      ,\n",
       "         458724.82333333,   446562.5       ,   242585.72666667,\n",
       "         276798.26666667,   446127.385     ,   526007.41      ,\n",
       "         259551.81583333,   377846.6511544 ,   638051.5       ,\n",
       "         464259.24880952,   475933.055     ,   286266.27166667,\n",
       "         993281.51      ,   685739.76333333,   496615.40079365,\n",
       "         792780.        ,   727011.66666667,   593049.34333333,\n",
       "         552540.66666667,    92975.3       ,   406650.        ,\n",
       "         586822.56814683,   588100.13304762,   660459.26817641,\n",
       "         450677.70166667,   597790.355     ,  1179033.33333333,\n",
       "         239972.76      ,   651576.18      ,   495197.91633333,\n",
       "         576625.32      ,   868422.64761905,   436541.36666667,\n",
       "          86784.18412698,   473364.33333333,   565351.48809524,\n",
       "        4423190.        ,   845025.        ,   609686.625     ,\n",
       "         376592.47896825,  1988470.        ,   240367.45752381,\n",
       "         487219.3       ,   508597.0447619 ,   536392.51166667,\n",
       "         496806.28333333,   590849.285     ,   909519.15666667,\n",
       "        5239182.24      ,   522922.68      ,   402332.80469447,\n",
       "         252023.42133333,   316383.51583333,   458676.72      ,\n",
       "         454462.92437229,   846624.60666667,   344715.845     ,\n",
       "         501765.83333333,   323562.73      ,   480985.19412698,\n",
       "         611584.03333333,   494472.13333333,   874097.48      ,\n",
       "         560840.83333333,   420812.63890476,   759560.        ,\n",
       "         555219.4       ,   543144.375     ,   929854.69      ,\n",
       "        8114500.        ,   664890.        ,   222643.86      ,\n",
       "         372562.25      ,   708064.49916667,   456037.33333333,\n",
       "         417294.12063492,   298875.56666667,   500785.        ,\n",
       "         431471.40333333,   447669.57833333, 12168250.        ,\n",
       "         309016.58190476,   792939.3125    ,   369469.73952381,\n",
       "         534034.8       ,   878181.23      ,   486707.16      ,\n",
       "         462840.08      ,   318480.60333333,  1836770.        ,\n",
       "         649887.28833333,  1081035.15      ,   377610.49833333,\n",
       "         897409.43      ,   298875.56666667,  1271976.16666667,\n",
       "         944915.53333333,   604505.        ,   328939.        ,\n",
       "         522777.37619048,   540177.437     ,   632332.12333333,\n",
       "         437568.91      ,   337751.2       ,   580913.1       ,\n",
       "         554931.94535714,   687438.26333333,   549932.7425    ,\n",
       "         466104.01      ,   926929.95666667,   676724.95581169,\n",
       "         301923.93333333,   398317.77828283,   510318.87777778,\n",
       "         298184.9       ,   769147.16166667,  1252900.4       ,\n",
       "         969859.8       ,  1160654.18      ,   200929.9       ,\n",
       "         424841.98      ,  2387562.3       ,   471127.89333333,\n",
       "         616448.45009524,    22185.00079365,  1031648.06      ,\n",
       "         372439.8       ,   423467.47      ,   627397.21      ,\n",
       "         459584.355     ,   463321.13333333,   543090.718     ,\n",
       "         568126.24444444,   773324.5       ,   403802.93333333,\n",
       "         222259.83333333,   467366.52519231,   633321.74709524,\n",
       "         353170.66666667,   543695.2       ,   625963.19      ,\n",
       "         842580.1       ,   543144.375     ,   492256.95066667,\n",
       "         599693.52857143,   754860.3       ,   459497.97063492,\n",
       "         715721.68333333,   837319.43666667,   683702.39      ,\n",
       "         401621.344     ,   799907.6       ,   773604.16666667,\n",
       "         684400.        ,   542618.67714286,   425820.        ,\n",
       "         508620.9       ,   550776.19333333,   796556.26190476,\n",
       "         554886.41666667,   922048.45      ,   495276.77333333,\n",
       "         272592.55333333,   833499.63333333,   930700.        ,\n",
       "         684916.81149206,   480379.14666667,   347747.27      ,\n",
       "         775329.71666667,  1089585.5       ,   372270.37      ,\n",
       "         533314.22      ,   562212.1       ,   774410.41666667,\n",
       "         296754.84      ,   553248.92857143,   692515.38333333,\n",
       "         692266.19464358,   458071.23428571,  1059662.08      ,\n",
       "         351016.04333333,   805904.91333333,   405394.1786627 ,\n",
       "         448397.754     ,   454075.36666667,   647962.73788378,\n",
       "         550770.        ,   712223.33333333,   531293.31833333,\n",
       "         408338.98809524,   629293.54761905,   724323.88      ,\n",
       "         559838.9047619 ,   440771.12333333,   339161.89333333,\n",
       "         814269.92      ,   557023.768     ,   496258.66666667,\n",
       "         416550.96428571,   434810.66666667,   490395.69      ,\n",
       "       15497792.66      ,   531500.6       ,   492736.655     ,\n",
       "         515338.33333333,   628410.89285714,   497632.51      ,\n",
       "         829320.42761905,   502983.265     ,   488664.69142857,\n",
       "         890864.41      ,   395846.295     ,   580318.61333333,\n",
       "         726971.66666667,   764726.4535    ,   576606.5       ,\n",
       "         378105.58607936,   481721.57936508,   347711.475     ,\n",
       "         578910.5       ,   629991.19666667,   565031.58333333,\n",
       "         372439.8       ,   377826.19047619,   418657.83066667,\n",
       "         391060.4       ,   580039.88      ,   970250.25666667,\n",
       "         675543.33333333,   912944.64      ,   328239.65555556,\n",
       "         656778.808     ,   597956.83333333,   826335.2       ,\n",
       "         663355.2       ,  1270790.        ,   374905.86380159,\n",
       "         528634.19583366,   154110.        ,  1155900.4       ,\n",
       "        1057741.63666667,   808442.88942857,   742085.35714286,\n",
       "         595200.03333333,   166765.73380952,   701576.92666667,\n",
       "         444402.42      ,   770151.66666667,   430791.726     ,\n",
       "         559991.125     ,   300988.53666667,   365306.        ,\n",
       "         799955.68      ,   441663.23      ,   375602.41333333,\n",
       "         377826.19047619,   644001.29814394,   718113.33333333,\n",
       "         266256.80984127,   777964.39666667,   605172.33333333,\n",
       "         541790.5       ,  1160648.18      ,   494532.14285714,\n",
       "         447588.5       ,   887313.27333333,   439831.09300183,\n",
       "         325375.63333333,   496841.2       ,   476472.65333333,\n",
       "         503460.30238095,   777422.149     ,   907295.22333333,\n",
       "         889073.9125    ,  1077944.57666667,   561494.35238095,\n",
       "         367106.95711111,   661551.11904762,   391791.43      ,\n",
       "         927437.6       ,   573272.57566667,   304871.18666667,\n",
       "         479367.26333333,   508260.        ,   406711.66666667,\n",
       "         621691.33333333,   529655.5952381 ,   308881.54166667,\n",
       "         814012.68971429,   433443.45333333,   543849.58333333,\n",
       "         376687.94444444,   309166.76666667, 11736000.        ,\n",
       "         307407.40753968,   377863.89416667,   612321.66666667,\n",
       "         429912.70333333,  1122641.66666667,  1056953.33333333,\n",
       "         878946.98095238,   485833.97777778,   340420.3       ,\n",
       "         570676.66666667,   823813.33333333,   612277.18      ,\n",
       "         348078.94340476,   657568.75      ,   760832.21333333,\n",
       "         449984.77666667,  1064554.32333333,   570075.974     ,\n",
       "         183025.2       ,   493526.2       ,   483757.84571429,\n",
       "        1271443.08      ,   433698.33266667,   504521.7825    ,\n",
       "         756897.11142857,   490225.        ,  1171851.90333333,\n",
       "         757060.1       ,  3385332.19333333,   536913.33333333,\n",
       "         122228.55388095,   769590.        ,   423581.76      ,\n",
       "         705557.99666667,   396785.        , 19139597.23      ,\n",
       "         349888.08944444,   735713.30366667,   446296.86904762,\n",
       "         298197.38804762,   565662.83333333,   542741.26333333,\n",
       "         333966.2       ,   699410.        ,   562061.94733333,\n",
       "         487848.79383333,   436104.19914286,   357638.63333333,\n",
       "         717574.81333333,  4522215.        ,   619180.54095238,\n",
       "         420966.99611111,   453222.97666667,   702010.        ,\n",
       "         619180.54095238,   303531.89035714,   791494.        ,\n",
       "         789990.83333333,   809300.1       ,   596744.66666667,\n",
       "         929520.1       ,   358571.98666667,   580377.92466667,\n",
       "         924627.94333333,   406706.04      ,   440495.35      ,\n",
       "         472062.02380952,   420707.17333333,   531375.83333333,\n",
       "         523282.898     ,   540813.18      ,   726265.39333333,\n",
       "         547617.74      ,   844478.51333333,   844478.51333333,\n",
       "         620510.        ,   518792.66      ,   478069.66666667,\n",
       "         730984.75190476, 15224771.33      ,   630456.66666667,\n",
       "         422311.73866667,   430827.04666667,    96284.89333333,\n",
       "         302546.2       ,   487754.02      ,   467854.94642857,\n",
       "         481229.99      ,   541083.25333333,   550251.23777778,\n",
       "         810879.        ,   431048.15      ,   296754.84      ,\n",
       "         647784.28571429,   326511.81584484,   492886.06      ,\n",
       "         806357.5       ,   429912.70333333,   456670.        ,\n",
       "         948312.78571429,   426720.843     ,   637855.52177778,\n",
       "         508622.83333333,   493301.56      ,   779542.85714286,\n",
       "        1485098.22666667,   848069.63      ,   449310.43066667,\n",
       "        1237430.        ,  1467195.66      ,   370634.08333333,\n",
       "         360333.37814502,   434597.04      ,   513027.1       ,\n",
       "         573564.11      ,   484962.88333333,   340602.66666667,\n",
       "       11801500.        ,   547547.5575    ,  1140202.        ,\n",
       "         573855.622     ,   411454.161     ,   367523.94666667,\n",
       "         444975.30357143,   341364.18559524,   774241.76333333,\n",
       "        1044380.        ,   766934.88190476,   919196.93333333,\n",
       "         485792.71      ,   454777.45083333,   480843.89666667,\n",
       "         573423.        ,   603107.3       ,   543090.718     ,\n",
       "         443158.62      ,   588716.24696087,   268021.23      ,\n",
       "         414359.84      ,   243528.79333333,   419948.95418903,\n",
       "         423581.76      ,   784902.97571429,   756640.        ,\n",
       "         583918.37619048,   302666.2685    ,   547956.5       ,\n",
       "         770009.        ,   609402.82142857,   733781.66666667,\n",
       "         349888.08944444,   845774.83      ,   751759.33333333,\n",
       "         716830.        ,   408921.959     ,   605816.4       ,\n",
       "         416330.6       ,   520853.36      ,   507235.58      ,\n",
       "         419438.55      ,   571365.41666667,   489865.38666667,\n",
       "         325633.4       ,   609402.82142857,   594685.89      ,\n",
       "         452112.61904762,   533717.748     ,   409497.344     ,\n",
       "         713495.        ,   859853.26      ,   477700.40079365,\n",
       "         606846.5       ,   613838.61333333,   613935.19833333,\n",
       "         248584.42      ,   990155.8       ,   258213.3015873 ,\n",
       "         490840.425     ,  1161805.        ,   430035.51666667,\n",
       "         436665.12322808,   413928.265     ,   419129.97190476,\n",
       "         822265.9       ,   753336.66666667,   529008.18571429,\n",
       "        1911136.29      ,   213552.07333333,   505305.32      ,\n",
       "         401960.23333333,   482090.78075397,   384749.16333333,\n",
       "         801342.19047619,   629293.54761905,  1125613.74      ,\n",
       "         404590.75571429,   481015.6       ,   818450.33333333,\n",
       "         579618.3915    ,   667720.36      ,   609709.84809524,\n",
       "         503009.14380952,   919420.        ,   307407.40753968,\n",
       "         612184.02380952,   494472.13333333,   446817.25      ,\n",
       "         582315.06      ,  7805750.        ,   588716.24696087,\n",
       "         539152.23809524,   434495.88833333,   517100.        ,\n",
       "         866975.27      ,   511571.9       ,   725370.        ,\n",
       "         289238.16666667, 15836271.33      ,   651691.54761905,\n",
       "        1086583.26      ,   585612.40047619,  2337625.19333333,\n",
       "         632625.66666667,   493971.95333333,   419281.61      ,\n",
       "         482908.50960317,   885348.12666667,   340743.61333333,\n",
       "         439045.4237619 ,   482804.32      ,   434953.06571429,\n",
       "         649717.98      ,   302831.4       ,   438557.12666667,\n",
       "         568291.25      ,   292298.39285714,   754635.4       ,\n",
       "        1608814.04      ,   357638.63333333,   247067.87      ,\n",
       "         785010.64916667,   448986.90333333,   934985.1       ,\n",
       "         745485.        ,   822483.33333333,  1179957.40666667,\n",
       "         536976.91761905,   402332.80469447,   319100.79468254,\n",
       "         730306.85333333,   665049.88      ,   565395.        ,\n",
       "        3039922.5       ,   508421.10083333,   458710.57666667,\n",
       "         380808.        ,   936788.2       ,   543796.76738562,\n",
       "         550776.19333333,   475253.2       ,   450170.95238095,\n",
       "         915910.5       ,  1137917.84      ,   799552.54      ,\n",
       "         824010.16666667,   385171.62333333,   587700.15966667,\n",
       "         594500.675     ,   717324.33730159,   490926.46833333,\n",
       "         404126.82      ,   370788.        ,   629293.54761905,\n",
       "        7030549.91      ,   424065.1       ,   922969.10666667,\n",
       "         540082.1       ,   476366.62      ,   615952.1       ,\n",
       "         858232.08666667,   943252.02      ,   353388.38428571,\n",
       "         422168.65619048,   456730.8952381 ,   549330.66      ,\n",
       "         415145.55333333,  2337625.19333333,   815744.83730159,\n",
       "         569702.03333333,   521236.07936508,  1179583.        ,\n",
       "         326538.9       ,   628316.381     ,  2162102.12857143,\n",
       "        1137917.84      ,   528609.        ,   755316.24666667,\n",
       "         677741.82666667,   878181.23      ,   543090.718     ,\n",
       "         464790.27666667,   418913.8952381 ,   394075.98857143,\n",
       "         595901.515     ,  1408146.        ,   769314.12698413,\n",
       "         956006.06      ,   591371.66666667,   721216.96333333,\n",
       "         305717.48416667,   386062.6625    ])"
      ]
     },
     "execution_count": 35,
     "metadata": {},
     "output_type": "execute_result"
    }
   ],
   "source": [
    "sampleRFpred_rf = model_rf_3.predict(X2_test)\n",
    "sampleRFpred_rf"
   ]
  }
 ],
 "metadata": {
  "kernelspec": {
   "display_name": "Python 3",
   "language": "python",
   "name": "python3"
  },
  "language_info": {
   "codemirror_mode": {
    "name": "ipython",
    "version": 3
   },
   "file_extension": ".py",
   "mimetype": "text/x-python",
   "name": "python",
   "nbconvert_exporter": "python",
   "pygments_lexer": "ipython3",
   "version": "3.8.6"
  }
 },
 "nbformat": 4,
 "nbformat_minor": 4
}
